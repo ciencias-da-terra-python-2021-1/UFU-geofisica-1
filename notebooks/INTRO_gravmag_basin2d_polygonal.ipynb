{
 "cells": [
  {
   "cell_type": "markdown",
   "metadata": {},
   "source": [
    "**Course website**: https://github.com/leomiquelutti/UFU-geofisica-1\n",
    "\n",
    "**Note**: This notebook is part of the course \"Geofísica 1\" of Geology program of the \n",
    "[Universidade Federal de Uberlândia](http://www.ufu.br/). \n",
    "All content can be freely used and adapted under the terms of the \n",
    "[Creative Commons Attribution 4.0 International License](http://creativecommons.org/licenses/by/4.0/).\n",
    "\n",
    "![Creative Commons License](https://i.creativecommons.org/l/by/4.0/88x31.png)\n",
    "\n",
    "Agradecimentos especiais ao [Leonardo Uieda](www.leouieda.com) e ao [Grupo Geosci](http://geosci.xyz/)"
   ]
  },
  {
   "cell_type": "markdown",
   "metadata": {},
   "source": [
    "Esse documento que você está usando é um [Jupyter notebook](http://jupyter.org/). É um documento interativo que mistura texto (como esse), código (como abaixo), e o resultado de executar o código (números, texto, figuras, videos, etc)."
   ]
  },
  {
   "cell_type": "markdown",
   "metadata": {},
   "source": [
    "# Inversão de dados de uma bacia sedimentar 2D poligonal\n",
    "\n",
    "## Objetivos\n",
    "\n",
    "* Entender melhor como funciona a inversão de dados"
   ]
  },
  {
   "cell_type": "markdown",
   "metadata": {},
   "source": [
    "A célula abaixo _prepara_ o ambiente"
   ]
  },
  {
   "cell_type": "code",
   "execution_count": 1,
   "metadata": {},
   "outputs": [
    {
     "name": "stderr",
     "output_type": "stream",
     "text": [
      "C:\\Users\\leomi\\Anaconda2\\lib\\site-packages\\fatiando\\vis\\mpl.py:76: UserWarning: This module will be removed in v0.6. We recommend the use of matplotlib.pyplot module directly. Some of the fatiando specific functions will remain.\n",
      "  \"specific functions will remain.\")\n"
     ]
    }
   ],
   "source": [
    "from fatiando.inversion import Smoothness1D\n",
    "from fatiando.gravmag.basin2d import PolygonalBasinGravity\n",
    "from fatiando.gravmag import talwani\n",
    "from fatiando.mesher import Polygon\n",
    "from fatiando.vis import mpl\n",
    "from fatiando import utils\n",
    "import numpy as np"
   ]
  },
  {
   "cell_type": "markdown",
   "metadata": {},
   "source": [
    "A célula abaixo cria dados sintéticos para testar a inversão de dados. O resultado será um polígono."
   ]
  },
  {
   "cell_type": "code",
   "execution_count": 2,
   "metadata": {},
   "outputs": [],
   "source": [
    "# Make some synthetic data to test the inversion\n",
    "# The model will be a polygon.\n",
    "# Reverse x because vertices must be clockwise.\n",
    "xs = np.linspace(0, 100000, 100)[::-1]\n",
    "depths = (-1e-15*(xs - 50000)**4 + 8000 -\n",
    "          3000*np.exp(-(xs - 70000)**2/(10000**2)))\n",
    "depths -= depths.min()  # Reduce depths to zero\n",
    "props = {'density': -300}\n",
    "model = Polygon(np.transpose([xs, depths]), props)\n",
    "x = np.linspace(0, 100000, 100)\n",
    "z = -100*np.ones_like(x)\n",
    "data = utils.contaminate(talwani.gz(x, z, [model]), 0.5, seed=0)"
   ]
  },
  {
   "cell_type": "markdown",
   "metadata": {},
   "source": [
    "A célula abaixo executa a inversão, dada as condições iniciais descritas em `initial`"
   ]
  },
  {
   "cell_type": "code",
   "execution_count": 3,
   "metadata": {},
   "outputs": [
    {
     "name": "stderr",
     "output_type": "stream",
     "text": [
      "C:\\Users\\leomi\\Anaconda2\\lib\\site-packages\\fatiando\\inversion\\optimization.py:302: RuntimeWarning: Exited because maximum iterations reached. Might not have achieved convergence. Try inscreasing the maximum number of iterations allowed.\n",
      "  RuntimeWarning)\n"
     ]
    },
    {
     "data": {
      "text/plain": [
       "<fatiando.inversion.base.MultiObjective at 0x95ad320>"
      ]
     },
     "execution_count": 3,
     "metadata": {},
     "output_type": "execute_result"
    }
   ],
   "source": [
    "# Make the solver using smoothness regularization and run the inversion\n",
    "misfit = PolygonalBasinGravity(x, z, data, 50, props, top=0)\n",
    "regul = Smoothness1D(misfit.nparams)\n",
    "solver = misfit + 1e-4*regul\n",
    "# This is a non-linear problem so we need to pick an initial estimate\n",
    "initial = 3000*np.ones(misfit.nparams)\n",
    "solver.config('levmarq', initial=initial).fit()"
   ]
  },
  {
   "cell_type": "markdown",
   "metadata": {},
   "source": [
    "A célula abaixo cria a imagem da bacia e mostra o ajuste dos dados"
   ]
  },
  {
   "cell_type": "code",
   "execution_count": 4,
   "metadata": {},
   "outputs": [
    {
     "data": {
      "image/png": "[encoded data removed]",
      "text/plain": [
       "<matplotlib.figure.Figure at 0x95cde80>"
      ]
     },
     "metadata": {},
     "output_type": "display_data"
    }
   ],
   "source": [
    "%matplotlib inline\n",
    "mpl.figure()\n",
    "mpl.subplot(2, 1, 1)\n",
    "mpl.plot(x, data, 'ok', label='observed')\n",
    "mpl.plot(x, solver[0].predicted(), '-r', linewidth=2, label='predicted')\n",
    "mpl.legend()\n",
    "ax = mpl.subplot(2, 1, 2)\n",
    "mpl.polygon(model, fill='gray', alpha=0.5, label='True')\n",
    "# The estimate_ property of our solver gives us the estimate basin as a polygon\n",
    "# So we can directly pass it to plotting and forward modeling functions\n",
    "mpl.polygon(solver.estimate_, style='o-r', label='Estimated')\n",
    "ax.invert_yaxis()\n",
    "mpl.legend()\n",
    "mpl.show()"
   ]
  },
  {
   "cell_type": "code",
   "execution_count": null,
   "metadata": {},
   "outputs": [],
   "source": []
  }
 ],
 "metadata": {
  "kernelspec": {
   "display_name": "Python 2",
   "language": "python",
   "name": "python2"
  },
  "language_info": {
   "codemirror_mode": {
    "name": "ipython",
    "version": 2
   },
   "file_extension": ".py",
   "mimetype": "text/x-python",
   "name": "python",
   "nbconvert_exporter": "python",
   "pygments_lexer": "ipython2",
   "version": "2.7.15"
  }
 },
 "nbformat": 4,
 "nbformat_minor": 2
}
