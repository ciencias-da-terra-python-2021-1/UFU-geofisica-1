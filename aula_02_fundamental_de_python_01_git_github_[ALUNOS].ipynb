{
  "nbformat": 4,
  "nbformat_minor": 0,
  "metadata": {
    "colab": {
      "name": "aula 02 - fundamental de python 01 - git/github [ALUNOS].ipynb",
      "provenance": [],
      "collapsed_sections": [],
      "toc_visible": true,
      "authorship_tag": "ABX9TyOCowIzPPnouzHbuGUWtFKM",
      "include_colab_link": true
    },
    "kernelspec": {
      "name": "python3",
      "display_name": "Python 3"
    }
  },
  "cells": [
    {
      "cell_type": "markdown",
      "metadata": {
        "id": "view-in-github",
        "colab_type": "text"
      },
      "source": [
        "<a href=\"https://colab.research.google.com/github/leomiquelutti/UFU-geofisica-1/blob/master/aula_02_fundamental_de_python_01_git_github_%5BALUNOS%5D.ipynb\" target=\"_parent\"><img src=\"https://colab.research.google.com/assets/colab-badge.svg\" alt=\"Open In Colab\"/></a>"
      ]
    },
    {
      "cell_type": "markdown",
      "metadata": {
        "id": "QZWPn-Jnd5w9"
      },
      "source": [
        "# <div align=\"left\"> Uso de dados para Ciências da Terra e Ambiental em Python (CTP) </div>\r\n",
        "\r\n",
        "<img src=\"https://upload.wikimedia.org/wikipedia/commons/thumb/e/ef/Logo_UFF_%28blue%29.svg/320px-Logo_UFF_%28blue%29.svg.png\" alt=\"drawing\" style=\"width:200px;\"/>\r\n",
        "<img src=\"https://www.cnrd.info/files/2016/01/logo_geociencias_uff-250x87.jpg\" alt=\"drawing\" style=\"width:200px;\"/>\r\n",
        "<img src=\"https://ppgdot.sipos.com.br/interface/images/logo-programa-colorido.png\" alt=\"drawing\" width=\"200\";\"/>\r\n",
        "\r\n",
        "Professor: Leonardo Miquelutti\r\n",
        "\r\n",
        "Material provided by EarthLab under [CC BY-NC-ND 4.0](https://www.earthdatascience.org/license/)  \r\n",
        "[Copyright (c) Earth Lab](https://www.earthdatascience.org)"
      ]
    },
    {
      "cell_type": "markdown",
      "metadata": {
        "id": "FMnK3Wx6d75Y"
      },
      "source": [
        "# Aula 02 - Fundamental de Python I - Git/GitHub"
      ]
    },
    {
      "cell_type": "markdown",
      "metadata": {
        "id": "bcIFAXI3fLFQ"
      },
      "source": [
        "<div class=\"notice--info\" markdown=\"1\">\r\n",
        "\r\n",
        "## Major Learning Objectives\r\n",
        "\r\n",
        "After completing these lessons, you will be able to:\r\n",
        "\r\n",
        "* Understand what is Shell\r\n",
        "* Get files from GitHub\r\n",
        "* Define version control\r\n",
        "* Explain how version control is useful in a scientific workflow\r\n",
        "* Describe how `Git` and `GitHub` support version control\r\n",
        "\r\n",
        "</div>"
      ]
    },
    {
      "cell_type": "markdown",
      "metadata": {
        "id": "liNXqWUh_qoz"
      },
      "source": [
        "# Part 1 - intro to Shell"
      ]
    },
    {
      "cell_type": "markdown",
      "metadata": {
        "id": "69jOyUG2WlKt"
      },
      "source": [
        "## <i class=\"fa fa-graduation-cap\" aria-hidden=\"true\"></i> Learning Objectives\r\n",
        "\r\n",
        "After completing this lesson, you will be able to:\r\n",
        "* Explain the roles of `Shell`, `Bash`, and `Terminal` for accessing files and programs on your computer \r\n",
        "* Explain what a directory is\r\n",
        "* Use `Bash` to complete the following tasks: \r\n",
        "    * print the current working directory (pwd)\r\n",
        "    * navigate between directories on your computer (cd)\r\n",
        "    * create new directories (mkdir)\r\n",
        "    * print a list of files (and sub-directories) within directories (ls)\r\n",
        "    * delete directories (rm -r)"
      ]
    },
    {
      "cell_type": "markdown",
      "metadata": {
        "id": "8hfN1lvUc5Fg"
      },
      "source": [
        "## What You Need\r\n",
        "\r\n",
        "Be sure that you have installed [Git](https://git-scm.com/downloads) in your operating system (Windows, Mac, Linux). "
      ]
    },
    {
      "cell_type": "markdown",
      "metadata": {
        "id": "qYfy2NQX_YXO"
      },
      "source": [
        "## Shell, Bash, and Terminal - An Overview\r\n",
        "\r\n",
        "In the lesson on Open Reproducible Science, you learned that `Shell` is the primary program that computers use to receive code (i.e. commands) and return information produced by executing these commands (i.e. output). \r\n",
        "\r\n",
        "These commands can be entered via a `Terminal` (i.e. Command Line Interface - CLI) or can be executed via software, which provide graphical user interfaces (GUIs) that send commands to the `Shell` and receive output back from the `Shell` when the command has been executed. \r\n",
        "\r\n",
        "`Bash` (also known as the \"Bourne-Again Shell\") is an implementation of `Shell` and provides many commands that can be executed via a `Terminal`. You will only use a handful of commands in this course, but more information on the available commands is provided on the bottom of this page under Additional Resources.\r\n",
        "\r\n",
        "There are also many options for terminals, including customized ones like `Git Bash`, which Windows users will use in this course. "
      ]
    },
    {
      "cell_type": "markdown",
      "metadata": {
        "id": "IJ1u-01nWxsZ"
      },
      "source": [
        "### Why Is Shell Important for Open Reproducible Science\r\n",
        "\r\n",
        "`Shell` helps you to:\r\n",
        "* easily navigate your computer to access and manage files and folders (i.e. directories) \r\n",
        "* quickly and efficiently work with many files and directories at once\r\n",
        "* run programs that provide more functionality at the command line (e.g. `Git`)\r\n",
        "* launch programs from specific directories on your computer (e.g. `Jupyter Notebook`)\r\n",
        "* use repeatable commands for these tasks across many different operating systems (Windows, Mac, Linux)"
      ]
    },
    {
      "cell_type": "markdown",
      "metadata": {
        "id": "EWMRP9K4Wzwc"
      },
      "source": [
        "## What Is a Directory?\r\n",
        "\r\n",
        "A directory refers to a folder on a computer that relates to other folders. The term directory considers the relationship between that folder and the folders within it and around it. Directories are hierarchical. "
      ]
    },
    {
      "cell_type": "markdown",
      "metadata": {
        "id": "LYcZ6hfRW1Y0"
      },
      "source": [
        "### What Is a Parent Directory?\r\n",
        "\r\n",
        "The term \"parent\" directory is used to describe the preceding directory in which a sub-directory is created."
      ]
    },
    {
      "cell_type": "markdown",
      "metadata": {
        "id": "TD_KX2-RW3gI"
      },
      "source": [
        "## Open a Terminal to Run Bash Commands\r\n",
        "\r\n",
        "The tool that you use to run bash commands will vary depending upon your computer's operating system."
      ]
    },
    {
      "cell_type": "markdown",
      "metadata": {
        "id": "uF7U3hneW5s8"
      },
      "source": [
        "### Mac (OS X)\r\n",
        "You can use the program called `Terminal`, which can be searched for in Spotlight (or found in Applications/Utilities) and uses the Bash implementation of Shell. Terminal is installed natively on the MAC OS.\r\n",
        "\r\n",
        "<figure>\r\n",
        "   <a href=\"https://help.apple.com/assets/58C4E5B4680CE2040551BA60/58C4E5B6680CE2040551BA69/en_US/84239026ca019f46567b86e900f5edd7.png\">\r\n",
        "   <img src=\"https://help.apple.com/assets/58C4E5B4680CE2040551BA60/58C4E5B6680CE2040551BA69/en_US/84239026ca019f46567b86e900f5edd7.png\" alt=\"This is what the Terminal on Mac looks like. Source: Apple.com.\"></a>\r\n",
        "   <figcaption>This is what the Terminal on Mac looks like. Source: Apple.com.\r\n",
        "   </figcaption>\r\n",
        "</figure>"
      ]
    },
    {
      "cell_type": "markdown",
      "metadata": {
        "id": "xhiGGuNmW-aY"
      },
      "source": [
        "### Linux\r\n",
        "\r\n",
        "You can use the program called `Terminal` (or `Terminal Emulator`), which typically uses the Bash implementation of Shell. \r\n",
        "\r\n",
        "<figure>\r\n",
        " <a href=\"https://www.earthdatascience.org/images/courses/earth-analytics/bootcamp/terminal/linux-terminal.png\" width = \"125%\">\r\n",
        " <img src=\"https://www.earthdatascience.org/images/courses/earth-analytics/bootcamp/terminal/linux-terminal.png\" alt=\"This is what the Terminal on Linux looks like.\" width = \"125%\"></a>\r\n",
        " <figcaption> This is what the Terminal on Linux looks like.\r\n",
        " </figcaption>\r\n",
        "</figure>"
      ]
    },
    {
      "cell_type": "markdown",
      "metadata": {
        "id": "LVtPk4ObXYVE"
      },
      "source": [
        "### Windows\r\n",
        "\r\n",
        "There are many options for running bash on windows. For this course, you will use `Git Bash` which comes with your installation of `Git`. Instructions for setting this up are here: \r\n",
        "\r\n",
        "* <a href=\"{{ site.url }}/workshops/setup-earth-analytics-python/setup-git-bash-anaconda/\" target = \"_blank\">Setting up Git, Bash, and Anaconda on your computer</a>\r\n",
        "\r\n",
        "Once you have installed `Git` on a Windows machine, you can open this Terminal by searching for `Git Bash` in the start menu. Use `Git Bash` for all hands-on activities and assignments in this course that ask you to use the `Terminal`. \r\n",
        "\r\n",
        "<figure>\r\n",
        " <a href=\"https://www.earthdatascience.org/images/courses/earth-analytics/bootcamp/terminal/git-bash-terminal.png\">\r\n",
        " <img src=\"https://www.earthdatascience.org/images/courses/earth-analytics/bootcamp/terminal/git-bash-terminal.png\" alt=\"This is what the Git Bash Terminal on Windows looks like.\"></a>\r\n",
        " <figcaption> This is what the Git Bash Terminal on Windows looks like.\r\n",
        " </figcaption>\r\n",
        "</figure>"
      ]
    },
    {
      "cell_type": "markdown",
      "metadata": {
        "id": "9UABoXMnXhBQ"
      },
      "source": [
        "## Run Bash Commands in the Terminal\r\n",
        "The dollar sign ($) is a prompt that shows you that `Bash` is waiting for input. \r\n",
        "\r\n",
        "```bash\r\n",
        "$ bash\r\n",
        "    $\r\n",
        "```\r\n",
        "\r\n",
        "Note: depending on your computer's set-up, you may see a different character as a prompt and/or may add information before the prompt, such as the directory that you are currently in.\r\n",
        "\r\n",
        "When typing commands (either from this course or from other sources), do not type the dollar sign (or other character prompt). Only type the commands that follow it. "
      ]
    },
    {
      "cell_type": "markdown",
      "metadata": {
        "id": "j2lO6yK2XkyD"
      },
      "source": [
        "### Test That Bash Is Available on Your Computer\r\n",
        "\r\n",
        "Type \"bash\" into the `Terminal`. You will only get a message back if the command is not successful. If the command is successful, you will simply see a new line prompt waiting for more input.\r\n",
        "\r\n",
        "```bash\r\n",
        "$ bash\r\n",
        "    $\r\n",
        "```\r\n",
        "\r\n",
        "Note: In the examples below, the indented lines that follow a prompt and do not start with a dollar sign ($) are the output of the command. The results of the commands below on your computer will be slightly different, depending on your operating system and how you have customized your file system."
      ]
    },
    {
      "cell_type": "markdown",
      "metadata": {
        "id": "vST7Rsz4Xnqr"
      },
      "source": [
        "### Print Your Current Working Directory (`pwd`)\r\n",
        "Your current working directory is the directory where your commands are being executed. It is typically printed as the full path to the directory (meaning that you can see the parent directory). To print the name of the current working directory, use the command `pwd`.\r\n",
        "\r\n",
        "```bash  \r\n",
        "$ pwd \r\n",
        "    c/Users/leomi\r\n",
        "```\r\n",
        "\r\n",
        "As this is the first command that you have executed in `Bash` today, the result of the `pwd` is the full path to your home directory. The home directory is the first directory that you will be in each time you start a new `Bash` session. \r\n",
        "\r\n",
        "**Windows users:** note that the `Terminal` uses forward slashes (`/`) to indicate directories within a path. This differs from the Windows File Explorer which uses backslashes (`\\`) to indicate directories within a path.   "
      ]
    },
    {
      "cell_type": "markdown",
      "metadata": {
        "id": "MMZjofjFXps8"
      },
      "source": [
        "### Change Working Directory (`cd`)\r\n",
        "\r\n",
        "To change directories, use the command `cd` followed by the name of_directory (e.g. `cd downloads`). You can print your current working directory again to check the new path. \r\n",
        "\r\n",
        "For example, you can change the working directory to `documents` under your home directory, and then check that the current working directory has been updated.\r\n",
        "\r\n",
        "```bash\r\n",
        "$ cd documents\r\n",
        "$ pwd\r\n",
        "    c/Users/leomi/documents\r\n",
        "```\r\n",
        "\r\n",
        "You can go back to the parent directory by using the command `cd ..`. The full path to the current working directory is understood by Bash.\r\n",
        "\r\n",
        "```bash\r\n",
        "$ cd ..\r\n",
        "$ pwd\r\n",
        "    c/Users/leomi\r\n",
        "```\r\n",
        "\r\n",
        "You can also go back to your home directory (e.g. c/Users/leomi) at any time using the command `cd ~` (the character known as the tilde). \r\n",
        "\r\n",
        "```bash\r\n",
        "$ cd ~\r\n",
        "$ pwd\r\n",
        "    c/Users/leomi\r\n",
        "```"
      ]
    },
    {
      "cell_type": "markdown",
      "metadata": {
        "id": "k3f2EgbYXsyi"
      },
      "source": [
        "### Create a New Directory (`mkdir`)\r\n",
        "\r\n",
        "The first step in creating a new directory is to navigate to the directory that you would like to be the parent directory to this new directory. Then, use the command `mkdir`, followed by the name you would like to give the new directory (e.g. `mkdir directoryname`). \r\n",
        "\r\n",
        "For example, you can create new directory under `documents` called `assignments`. Then, you can navigate into the new directory called `assignments`, and print the current working directory to check the new path.\r\n",
        "\r\n",
        "```bash\r\n",
        "$ cd documents\r\n",
        "$ mkdir assignments\r\n",
        "$ cd assignments\r\n",
        "$ pwd\r\n",
        "    c/Users/leomi/documents/assignments\r\n",
        "```\r\n",
        "\r\n",
        "Use 'cd ~' to return to your home directory.\r\n",
        "\r\n",
        "```bash\r\n",
        "$ cd ~\r\n",
        "$ pwd\r\n",
        "    c/Users/leomi\r\n",
        "```"
      ]
    },
    {
      "cell_type": "markdown",
      "metadata": {
        "id": "Bg9HC8RdXvPM"
      },
      "source": [
        "### Machine Readable Directory Names Are Important\r\n",
        "\r\n",
        "As you create new directories, consider the names carefully. \r\n",
        "\r\n",
        "* Use names that clearly describe what the directory contains.\r\n",
        "* Don't use spaces in your names. Instead of spaces, you can use `-` or `_` to separate words within the name.\r\n",
        "\r\n",
        "In the image below, compare the list of file names on the LEFT to those on the right. Which ones are easier to quickly understand? \r\n",
        "\r\n",
        "<figure>\r\n",
        "   <a href=\"https://www.earthdatascience.org/images/slide-shows/intro-rr/human-readable-jenny.png\">\r\n",
        "   <img src=\"https://www.earthdatascience.org/images/slide-shows/intro-rr/human-readable-jenny.png\" alt=\"This image displays examples of good and not-so-good names for directories and files. Source: Jenny Bryan, Reproducible Science Curriculum.\"></a>\r\n",
        "   <figcaption>This image displays examples of good and not-so-good names for directories and files. Source: Jenny Bryan, Reproducible Science Curriculum.   \r\n",
        "   </figcaption>\r\n",
        "</figure>\r\n",
        "\r\n",
        "\r\n",
        "\r\n",
        "<i class=\"fa fa-exclamation-circle\" aria-hidden=\"true\"></i> **Windows Users:** note that the names of your existing directories often begin with upper case letters. When creating new directories, use lower case to follow the lessons more easily and for best results from future programming tasks."
      ]
    },
    {
      "cell_type": "markdown",
      "metadata": {
        "id": "2wWRC1J3X1Vw"
      },
      "source": [
        "### Print a List of All Files and Sub-directories  (`ls`)\r\n",
        "\r\n",
        "To see a list of all files and sub-directories within your current working directory, use the command `ls`.\r\n",
        "\r\n",
        "```bash\r\n",
        "$ pwd\r\n",
        "    c/Users/leomi\r\n",
        "$ ls \r\n",
        "    documents    downloads    \r\n",
        "```\r\n",
        "For example, you can change your current working directory to `documents` and print a new list of all files and sub-directories to see our newly created `assignments` directory by using the `cd` and `ls` functions. \r\n",
        "\r\n",
        "```bash\r\n",
        "$ cd documents\r\n",
        "$ ls    \r\n",
        "    assignments  \r\n",
        "```\r\n",
        "\r\n",
        "You can also create a new directory under `assignments` called `homeworks`, and then list the contents of the `assignments` directory to see the newly created `homeworks`.\r\n",
        "\r\n",
        "```bash\r\n",
        "$ cd assignments\r\n",
        "$ mkdir homeworks\r\n",
        "$ ls    \r\n",
        "    homeworks  \r\n",
        "```"
      ]
    },
    {
      "cell_type": "markdown",
      "metadata": {
        "id": "tXUk2PSMX4Ko"
      },
      "source": [
        "### Delete a Directory (`rm`)\r\n",
        "\r\n",
        "To delete (i.e. remove) a directory and all the sub-directories and files that it contains, navigate to its parent directory and use the command `rm -r`, followed by the name of the directory you want to delete (e.g. `rm -r directoryname`). \r\n",
        "\r\n",
        "For example, you can delete the `assignments` directory under the `documents` directory because it does not meet the requirement of a good name for a directory.\r\n",
        "\r\n",
        "```bash\r\n",
        "$ cd ~\r\n",
        "$ cd documents\r\n",
        "$ pwd\r\n",
        "    c/Users/leomi/documents\r\n",
        "$ ls    \r\n",
        "    assignments  \r\n",
        "$ rm -r assignments\r\n",
        "```\r\n",
        "\r\n",
        "The `rm` stands for remove, while the `-r` is necessary to tell Bash that it needs to recurse or repeat the command) through a list of all files and sub-directory within the parent directory. This means that the newly created `homeworks` directory under `assignments` will also be removed."
      ]
    },
    {
      "cell_type": "markdown",
      "metadata": {
        "id": "iEePLUhrX55U"
      },
      "source": [
        "## Close the Terminal\r\n",
        "\r\n",
        "You can close the terminal at any time by typing the command `exit` and hitting `Enter`.\r\n",
        "\r\n",
        "For now, leave the `Terminal` open, so you can complete the rest of this lesson."
      ]
    },
    {
      "cell_type": "markdown",
      "metadata": {
        "id": "ENm9S38eX9eJ"
      },
      "source": [
        "## Practice your skills\r\n",
        "\r\n",
        "Test your `Bash` skills to:\r\n",
        "\r\n",
        "1. Create a new directory called `ciencias-terra-python` in your `Documents` directory (hint: `cd`, `mkdir`).\r\n",
        "\r\n",
        "2. Check that `ciencias-terra-python` has been successfully created in your `Documents` directory (hint: `ls`).\r\n",
        "\r\n",
        "3. Change the directory to `ciencias-terra-python` and create a new directory called `data` (hint: `cd`, `mkdir`). \r\n",
        "\r\n",
        "4. Check that `data` has been successfully created in `ciencias-terra-python`  (hint: `ls`)."
      ]
    },
    {
      "cell_type": "markdown",
      "metadata": {
        "id": "4picSHhvZz3M"
      },
      "source": [
        "# Summary GitHub Workflow\r\n",
        "\r\n",
        "1. Fork the repository you want to work on to your personal account\r\n",
        "1. Clone it to your computer (optional, but almost mandatory)\r\n",
        "1. Make all necessary changes/add/removal\r\n",
        "1. Commit it to your forked repo on your personal account\r\n",
        "1. Open a Pull Request to merge your changes to the original repo"
      ]
    },
    {
      "cell_type": "markdown",
      "metadata": {
        "id": "3qhtpYAC_GOn"
      },
      "source": [
        "# Part 2 - getting files from GitHub"
      ]
    },
    {
      "cell_type": "markdown",
      "metadata": {
        "id": "QJjduzSE_Rej"
      },
      "source": [
        "## Learning Objectives\r\n",
        "\r\n",
        "After completing this lesson, you will be able to:\r\n",
        "\r\n",
        "* Explain how `GitHub` and `Git` use repositories to store and manage files\r\n",
        "* Create a copy of (i.e. `fork`) other users' files on `Github.com` \r\n",
        "* Use the `Git clone` command to download your copy of files to your computer \r\n",
        "\r\n",
        "You will also need a web browser and your `Github.com` login (username and password). "
      ]
    },
    {
      "cell_type": "markdown",
      "metadata": {
        "id": "xpfwGqULdwrp"
      },
      "source": [
        "## About Git & GitHub\r\n",
        "\r\n",
        "In the lesson on Open Reproducible Science, you learned that `Git` is tool that is used to track changes in files (a process called version control) through a suite of commands that you can execute in the `Terminal`. You also learned that `GitHub` is the cloud-based version of `Git`, which can be used to store files in the cloud to access them from any computer and to share them with others.  \r\n",
        "\r\n",
        "`Git` and `GitHub` use repositories (i.e. directories of files stored on `Github.com`) to manage and store files. \r\n",
        "\r\n",
        "<i class=\"fa fa-star\"></i> **Data Tip:** A `GitHub` repository is a directory of files and folders that is hosted on `Github.com`.  \r\n",
        "\r\n",
        "`GitHub` allows you to store a set of files as Github repositories in the cloud (on the `GitHub` servers) and to work with these repositories locally on your computer using `Git` commands in the `Terminal`. \r\n",
        "\r\n",
        "Having a copy of a set of files as repositories in the cloud is ideal because:\r\n",
        "\r\n",
        "1. There is a backup: If something happens to your computer, the files are still available online\r\n",
        "2. You can share the files with other people easily\r\n",
        "3. You can even create a Digital Object Identifier (DOI) using third party tools like Zenodo to cite your files or ask others to cite your files. You can also add these DOIs to your resume or C.V. to promote your work. "
      ]
    },
    {
      "cell_type": "markdown",
      "metadata": {
        "id": "RM5VWphIdzbP"
      },
      "source": [
        "## Forking and Cloning Repositories\r\n",
        "\r\n",
        "In this lesson, you will learn how to make a copy of an existing repository created by another user or organization (a task referred to as `forking` repositories) and to download your copy of the repository to your computer (a task referred to as `cloning` repositories). \r\n",
        "\r\n",
        "The ability to `fork` a repository is a great benefit of using `GitHub` repositories because the forked repository is linked to the original. This means that you can download new updates from original to your forked repository as well as suggest changes to the original repository, which can be reviewed by the owner of that repository. \r\n",
        "\r\n",
        "Cloning a repository to your computer is a great way to work on your files locally, while still having a copy of your files on the cloud on `Github.com`.\r\n",
        "\r\n",
        "Throughout the course, you will learn more about the functionality provided by `GitHub` and `Git`. In this lesson, you will first `fork` an existing repository on `Github.com` to make a copy for yourself, and then run the `git clone` command from the `Terminal` to download your copy of the repository to your computer.  "
      ]
    },
    {
      "cell_type": "markdown",
      "metadata": {
        "id": "2Smi8j5Rd_3Y"
      },
      "source": [
        "## Create a Copy of Other Users' Files on Github.com (Forking)\r\n",
        "\r\n",
        "The URL link to a `GitHub` repository always follows the same format: `https://github.com/username/repositoryname`. \r\n",
        "\r\n",
        "You can `fork` an existing `Github` repository from the main `Github.com` page of the repository that you want to copy (example: `https://github.com/leomiquelutti/ciencias-da-terra-repository-test`).\r\n",
        "\r\n",
        "On the main `Github.com` page of the repository, you will see a button on the top right that says `Fork`. The number next to `Fork` tells the number of times that the repository has been copied or forked.\r\n",
        "\r\n",
        "Click on the `Fork` button and select your `Github.com` account as the home of the forked repository. \r\n",
        "\r\n",
        "<figure>\r\n",
        "   <a href=\"https://help.github.com/assets/images/help/repository/fork_button.jpg\">\r\n",
        "   <img src=\"https://help.github.com/assets/images/help/repository/fork_button.jpg\" alt=\"Fork an existing Github.com repository to make a copy of other users' files. Source: Github.com.\"></a>\r\n",
        "   <figcaption>Fork an existing Github.com repository to make a copy of other users' files. Source: Github.com.\r\n",
        "   </figcaption>\r\n",
        "</figure>"
      ]
    },
    {
      "cell_type": "markdown",
      "metadata": {
        "id": "wxq-SDmteHvI"
      },
      "source": [
        "## Copy Files From Github.com to Your Local Computer (`git clone`)\r\n",
        "\r\n",
        "Now that you have made a copy (or forked) the desired repository, you will use the `git clone` command to download the forked repository (i.e. your copy of a `GitHub` repository) from `Github.com` onto your computer. "
      ]
    },
    {
      "cell_type": "markdown",
      "metadata": {
        "id": "_GGQw7H_eJfW"
      },
      "source": [
        "### Use `Bash` to Change to Your Desired Working Directory\r\n",
        "\r\n",
        "The first step to using any `Git` command is to change the current working directory to your desired directory.\r\n",
        "\r\n",
        "In the case of `git clone`, the current working directory needs to be where you want to download your local copy of a `GitHub` repository. You will use the `ciencias-terra-python` directory that you created under your home directory in the previous lesson.\r\n",
        "\r\n",
        "```bash\r\n",
        "$ cd ~\r\n",
        "$ cd Documents/ciencias-terra-python\r\n",
        "$ pwd\r\n",
        "    c/Users/leomi/Documents/ciencias-terra-python\r\n",
        "```"
      ]
    },
    {
      "cell_type": "markdown",
      "metadata": {
        "id": "jDu2PcfdeL_0"
      },
      "source": [
        "### Copy a Github.com Repository URL From Github.com\r\n",
        "\r\n",
        "Because you forked the `ciencias-da-terra-repository-test` repository, your `Github.com` account now contains a copy of it, which you can access on `https://github.com/your-username/ciencias-da-terra-repository-test`. \r\n",
        "\r\n",
        "On the main `Github.com` page of your forked repository, click on the green button for `Clone or download`, and copy the URL provided in the box, which will look like: `https://github.com/leomiquelutti/ciencias-da-terra-repository-test`. \r\n",
        "\r\n",
        "\r\n",
        "<figure>\r\n",
        "    <a href=\"https://www.earthdatascience.org/images/earth-analytics/git-version-control/git-clone-repo.gif\">\r\n",
        "   <img src=\"https://www.earthdatascience.org/images/earth-analytics/git-version-control/git-clone-repo.gif\" alt=\"Copy the url of a Github repository on Github.com. Source: Github.com\"></a>\r\n",
        "   <figcaption>Copy the url of a Github repository on Github.com. Source: Github.com\r\n",
        "   </figcaption>\r\n",
        "</figure>\r\n",
        "\r\n",
        "\r\n",
        "Note: you do not have to use the `Clone or download` button to copy the URL. You can also copy it directly from your web browser or you might simply already know the URL. However, in many cases, you will have come across a `Github.com` repository on your own and will need to follow these instructions to copy the URL for future use."
      ]
    },
    {
      "cell_type": "markdown",
      "metadata": {
        "id": "UnsmuDA7eyah"
      },
      "source": [
        "### Run the Git Clone Command in the Terminal\r\n",
        "\r\n",
        "To download your forked copy of the `ciencias-da-terra-repository-test` repository to your computer, be sure that you have changed to the correct working directory (see **Use `Bash` to Change to Your Desired Working Directory**). \r\n",
        "\r\n",
        "Then, run the command `git clone` followed by the URL that you copied in above as follows: \r\n",
        "\r\n",
        "```bash\r\n",
        "git clone https://github.com/your-username/ciencias-da-terra-repository-test\r\n",
        "```\r\n",
        "\r\n",
        "You have now made a local copy of the forked `Github.com` repository under your `ciencias-terra-python` directory. Double check that the directory exists using the `ls` command in terminal. \r\n",
        "\r\n",
        "```bash\r\n",
        "$ ls     \r\n",
        "    ciencias-da-terra-repository-test\r\n",
        "```"
      ]
    },
    {
      "cell_type": "markdown",
      "metadata": {
        "id": "-ul0y0h9e0u4"
      },
      "source": [
        "## Practice your skills\r\n",
        "\r\n",
        "Test your `Bash` and `Git`/`GitHub` skills to `fork` and `clone` the repository for Assignment 1:\r\n",
        "\r\n",
        "1. You received your first assignment, and after you accepted it, a private repository was created at `https://github.com/ciencias-da-terra-python-2021-1/atividade-01-yourusername`.\r\n",
        "\r\n",
        "1. `Fork` this repository to your `GitHub account`. Your forked repository will be available on `https://github.com/yourusername/atividade-01-markdown-yourusername`.\r\n",
        "\r\n",
        "1. Clone your forked repository `atividade-01-markdown-yourusername` to the `ciencias-terra-python` directory on your computer (hint: `cd`, `git clone`).\r\n",
        "\r\n",
        "1. Check that `atividade-01-markdown-yourusername` has been successfully cloned to your computer (hint: `ls`)."
      ]
    },
    {
      "cell_type": "markdown",
      "metadata": {
        "id": "NMfQBGOQf4F2"
      },
      "source": [
        "# Part 3 - Version Control"
      ]
    },
    {
      "cell_type": "markdown",
      "metadata": {
        "id": "MymqP_4VfVkv"
      },
      "source": [
        "## What is Version Control?\r\n",
        "\r\n",
        "A version control system maintains a record of changes to code and other content. It also allows us to revert changes to a previous point in time.\r\n",
        "\r\n",
        "<figure>\r\n",
        "   <a href=\"http://www.phdcomics.com/comics/archive/phd101212s.gif\">\r\n",
        "   <img src=\"http://www.phdcomics.com/comics/archive/phd101212s.gif\" alt=\"Many of us have appended a date to a file name as a method of version control at some point in our lives. Source: Piled Higher and Deeper by Jorge Cham www.phdcomics.com.\"></a>\r\n",
        "   <figcaption> Many of us have used the \"append a date\" to a file name version of version control at some point in our lives. Source: \"Piled Higher and Deeper\" by Jorge Cham www.phdcomics.com.\r\n",
        "   </figcaption>\r\n",
        "</figure>"
      ]
    },
    {
      "cell_type": "markdown",
      "metadata": {
        "id": "LSE2BWZ7fYpf"
      },
      "source": [
        "## Types of Version control\r\n",
        "\r\n",
        "There are many forms of version control. Some not as good:\r\n",
        "\r\n",
        "* Save a document with a new date (we’ve all done it, but it isn’t efficient)\r\n",
        "* Google Docs “history” function (not bad for some documents, but limited in scope).\r\n",
        "\r\n",
        "Some better:\r\n",
        "\r\n",
        "* Version control tools like Git, Mercurial, or Subversion"
      ]
    },
    {
      "cell_type": "markdown",
      "metadata": {
        "id": "V97LMd4DfaYH"
      },
      "source": [
        "## Why Version Control is Important\r\n",
        "\r\n",
        "Version control facilitates two important aspects of many scientific workflows:\r\n",
        "\r\n",
        "1. The ability to save and review or revert to previous versions.\r\n",
        "2. The ability to collaborate on a single project.\r\n",
        "\r\n",
        "This means that you don’t have to worry about a collaborator (or your future self) overwriting something important. It also allows two people working on the same document to efficiently combine ideas and changes.\r\n",
        "\r\n",
        "<div class=\"notice\" markdown=\"1\">\r\n",
        "\r\n",
        "<i class=\"fa fa-star\"></i>**Thought Questions**: Think of a specific time when you weren’t using version control that it would have been useful.\r\n",
        "\r\n",
        "1. Why would version control have been helpful to your project & work flow?\r\n",
        "2. What were the consequences of not having a version control system in place?\r\n",
        "\r\n",
        "</div>"
      ]
    },
    {
      "cell_type": "markdown",
      "metadata": {
        "id": "zsbj9LSxfcm7"
      },
      "source": [
        "## How Version Control Systems Works"
      ]
    },
    {
      "cell_type": "markdown",
      "metadata": {
        "id": "9zU0LVAPfeBj"
      },
      "source": [
        "### Simple Version Control Model\r\n",
        "\r\n",
        "A version control system tracks what has changed in one or more files over time. Version control systems begin with a base version of a document. They then save the committed changes that you make. You can think of version control as a tape: if you rewind the tape and start at the base document, then you can play back each change and end up with your latest version.\r\n",
        "\r\n",
        "<figure>\r\n",
        "   <a href=\"http://swcarpentry.github.io/git-novice/fig/play-changes.svg\">\r\n",
        "   <img src=\"http://swcarpentry.github.io/git-novice/fig/play-changes.svg\" alt=\"A version control system saves changes to a document, sequentially as you add and commit them to the system. Source: Software Carpentry.\"></a>\r\n",
        "   <figcaption> A version control system saves changes to a document, sequentially as you add and commit them to the system. Source: Software Carpentry.\r\n",
        "   </figcaption>\r\n",
        "</figure>\r\n",
        "\r\n",
        "Once you think of changes as separate from the document itself, you can then think about “playing back” different sets of changes onto the base document. You can then retrieve, or revert to, different versions of the document.\r\n",
        "\r\n",
        "Collaboration with version control allows to users to make independent changes to the same document.\r\n",
        "\r\n",
        "<figure>\r\n",
        "   <a href=\"http://swcarpentry.github.io/git-novice/fig/versions.svg\">\r\n",
        "   <img src=\"http://swcarpentry.github.io/git-novice/fig/versions.svg\" alt=\"Different versions of the same document can be saved within a version control system. Source: Software Carpentry.\"></a>\r\n",
        "   <figcaption> Different versions of the same document can be saved within a version control system. Source: Software Carpentry.\r\n",
        "   </figcaption>\r\n",
        "</figure>\r\n",
        "\r\n",
        "If there aren’t conflicts between the users’ changes (a conflict is an area where both users modified the same part of the same document in different ways) you can review two sets of changes on the same base document.\r\n",
        "\r\n",
        "<figure>\r\n",
        "   <a href=\"http://swcarpentry.github.io/git-novice/fig/merge.svg\">\r\n",
        "   <img src=\"http://swcarpentry.github.io/git-novice/fig/merge.svg\" alt=\"Two sets of changes to the same base document can be reviewed together, within a version control system if there are no conflicts (areas where both users modified the same part of the same document in different ways). Changes submitted by both users can then be merged together. Source: Software Carpentry.\"></a>\r\n",
        "   <figcaption> Two sets of changes to the same base document can be reviewed together, within a version control system if there are no conflicts (areas where both users modified the same part of the same document in different ways). Changes submitted by both users can then be merged together. Source: Software Carpentry.\r\n",
        "   </figcaption>\r\n",
        "</figure>\r\n",
        "\r\n",
        "A version control system is a tool that keeps track of these changes for us. Each version of a file can be viewed and reverted to at any time. That way if you add something that you end up not liking or delete something that you need, you can simply go back to a previous version."
      ]
    },
    {
      "cell_type": "markdown",
      "metadata": {
        "id": "RtDgYZayfhq3"
      },
      "source": [
        "### Git and GitHub - A Distributed Version Control Model\r\n",
        "\r\n",
        "`Git` uses a distributed version control model. This means that there can be many copies (or forks/branches in `GitHub` world) of the repository. When working locally, git is the program that you will use to keep track of changes to your repository. `GitHub` is a location on the internet (a cloud web server) that acts as a remote location for your repository. `GitHub` provides a backup of your work, that can be retrieved if your local copy is lost (e.g., if your computer falls off a pier).\r\n",
        "\r\n",
        "GitHub also allows you to share your work and collaborate with others on projects.\r\n",
        "\r\n",
        "<figure>\r\n",
        "   <a href=\"https://git-scm.com/book/en/v2/book/01-introduction/images/distributed.png\">\r\n",
        "   <img src=\"https://git-scm.com/book/en/v2/book/01-introduction/images/distributed.png\" alt=\"One advantage of a distributed version control system is that there are many copies of the repository. Thus, if any server or computer dies, any of the client repositories can be copied and used to restore the data! Every clone (or fork) is a full backup of all the data. Source: Pro Git by Scott Chacon & Ben Straub. \"></a>\r\n",
        "   <figcaption> One advantage of a distributed version control system is that there are many copies of the repository. Thus, if any server or computer dies, any of the client repositories can be copied and used to restore the data! Every clone (or fork) is a full backup of all the data. Source: Pro Git by Scott Chacon & Ben Straub. \r\n",
        "    </figcaption>\r\n",
        "</figure>    "
      ]
    },
    {
      "cell_type": "markdown",
      "metadata": {
        "id": "M77AQBd5fjtT"
      },
      "source": [
        "## How Git and GitHub Support Version Control\r\n",
        "\r\n",
        "In the lesson on Open Reproducible Science, you learned that `Git` is version control tool that you use in the `Terminal` to work with and track changes in local files. You also learned that `GitHub` is the cloud-based version of `Git`, which can be used to store your files (as well as changes to those files) in the cloud to access them from any computer and to share them with others.  \r\n",
        "\r\n",
        "Due to the functionality that each tool provides, you can use `Git` and `GitHub` together in the same workflow to:\r\n",
        "* keep track of changes to your code\r\n",
        "* synchronizing code between different versions (i.e. either your own versions or others' versions)\r\n",
        "* test changes to code without losing the original\r\n",
        "* revert back to older version of code, if needed\r\n",
        "* back-up your files on the cloud\r\n",
        "* share your files on `Github.com` and collaborate with others\r\n",
        "\r\n",
        "Throughout this course, you will learn more about the functionality of `Git` and `GitHub` and how they support transparency and reproducibility in workflows, which in turn promotes open reproducible science.  "
      ]
    },
    {
      "cell_type": "markdown",
      "metadata": {
        "id": "qpSHWz3Fg0Si"
      },
      "source": [
        "# Part 4 - Git and GitHub"
      ]
    },
    {
      "cell_type": "markdown",
      "metadata": {
        "id": "r8IjM0T3naLX"
      },
      "source": [
        "## Learning Objectives\r\n",
        "\r\n",
        "After completing this lesson, you will be able to:\r\n",
        "\r\n",
        "* Explain how `Git` and `GitHub` are used to implement version control\r\n",
        "* Use `Git` to `add` and `commit` changed files \r\n",
        "* Use `Git` to `push` changed files from your local computer to the repository on `Github.com`"
      ]
    },
    {
      "cell_type": "markdown",
      "metadata": {
        "id": "6smbYsQtnpUM"
      },
      "source": [
        "## Git and GitHub Workflow For Version Control\r\n",
        "\r\n",
        "In the lesson on getting files from GitHub, you learned how to `fork` and `clone` existing `GitHub` repositories to make copies of other users' repositories and download them to your computer. \r\n",
        "\r\n",
        "In this lesson, you expand on those skills to:\r\n",
        "\r\n",
        "* check the `status` of changed files in a repository\r\n",
        "* `add` changed files to version control tracking\r\n",
        "* `commit` the changed files to your local repository\r\n",
        "* `push` those changed files from the local copy of a repository to the cloud (`Github.com`)\r\n",
        "\r\n",
        "In later lessons, you will expand on this version control workflow to notify others (your collaborators) about changes you have made and that you would like to add to the original (`master` or `main`) copy of a repository. "
      ]
    },
    {
      "cell_type": "markdown",
      "metadata": {
        "id": "prZWd8NIntia"
      },
      "source": [
        "## Configure `Git` Settings On Your Computer:\r\n",
        "\r\n",
        "1. In the terminal, set your `Github.com` username by typing: `git config --global user.name \"Your UserName\"`.\r\n",
        "\r\n",
        "2. In the terminal, set the email for your `Github.com` account by typing: `git config --global user.email \"youremail@email.com\"`.\r\n",
        "\r\n",
        "Note that you only have to configure these settings once on your computer. You can check your config settings for user.name and user.email using the following commands:\r\n",
        "\r\n",
        "`git config user.name` or `git config user.email`"
      ]
    },
    {
      "cell_type": "markdown",
      "metadata": {
        "id": "_7aDbtTknv6t"
      },
      "source": [
        "### Make Changes to Files and Directories\r\n",
        "\r\n",
        "1. Begin by using Shell to navigate to your forked repository (the `atividade-01-markdown-yourusername` directory) and create a new directory. (hint: `cd`, `mkdir`)\r\n",
        "\r\n",
        "1. Then, manually add any small text file (e.g. `yourfile.txt`) to this folder. This file will be edited later.\r\n",
        "\r\n",
        "1. Use `Bash` to check if the new file is there. (hint: `ls`)"
      ]
    },
    {
      "cell_type": "markdown",
      "metadata": {
        "id": "FNAP9epin2UH"
      },
      "source": [
        "## Check the Status of Changes\r\n",
        "\r\n",
        "In the `terminal`, navigate to your `atividade-01-markdown-yourusername` repository that you forked and cloned to your computer. \r\n",
        "\r\n",
        "Run the command `git status` to check that changes have been made to your files that have not been pushed back to `GitHub`. \r\n",
        "\r\n",
        "```bash\r\n",
        "git status\r\n",
        "On branch main\r\n",
        "Your branch is up to date with 'origin/main'.\r\n",
        "\r\n",
        "Untracked files:\r\n",
        "  (use \"git add <file>...\" to include in what will be committed)\r\n",
        "        yourfile.txt\r\n",
        "\r\n",
        "nothing added to commit but untracked files present (use \"git add\" to track)\r\n",
        "```\r\n",
        "\r\n",
        "The output from `git status` indicates that you have added the file `yourfile.txt` to the folder but has not been tracking it.\r\n",
        "\r\n",
        "To keep track of changes to this file, you need to:\r\n",
        "\r\n",
        "1. `add` the changes, and then\r\n",
        "2. `commit` the changes."
      ]
    },
    {
      "cell_type": "markdown",
      "metadata": {
        "id": "LJECN1QNn3NM"
      },
      "source": [
        "## Add and Commit Changed Files\r\n",
        "\r\n",
        "You will use the add and commit functions to `add` and `commit` your changed files.\r\n",
        "\r\n",
        "* `git add`: takes a modified file in your working directory and places the modified version in a staging area.\r\n",
        "\r\n",
        "* `git commit`: takes everything from the staging area and makes a permanent snapshot of the current state of your repository that is associated with a unique identifier.\r\n",
        "\r\n",
        "These two commands make up the bulk of many workflows that use git for version control.\r\n",
        "\r\n",
        "<figure>\r\n",
        "   <a href=\"https://www.earthdatascience.org/images/workshops/version-control/git-add-commit.png\">\r\n",
        "   <img src=\"https://www.earthdatascience.org/images/workshops/version-control/git-add-commit.png\" alt=\"Modified files are staged using git add, and following a commit, all files in the staging area are snapshotted and become part of the repository's history, receiving a unique SHA-1 hash identifier. Source: Max Joseph, adapted from Pro Git by Chacon and Straub (2014).\"></a>\r\n",
        "   <figcaption> Modified files are staged using git add, and following a commit, all files in the staging area are snapshotted and become part of the repository's history, receiving a unique SHA-1 hash identifier. Source: Max Joseph, adapted from Pro Git by Chacon and Straub (2014).\r\n",
        "   </figcaption>\r\n",
        "</figure>"
      ]
    },
    {
      "cell_type": "markdown",
      "metadata": {
        "id": "VUydvv4zn674"
      },
      "source": [
        "### Add Files\r\n",
        "\r\n",
        "You can add an individual file or groups of files to git tracking. To add a single file, use: \r\n",
        "\r\n",
        "`git add file-name.extension`.\r\n",
        "\r\n",
        "For example, to add the `yourfile.txt` file that you just modified, you’d use: \r\n",
        "\r\n",
        "`git add yourfile.txt`.\r\n",
        "\r\n",
        "You can also add all of the files that you have edited at the same time using: \r\n",
        "\r\n",
        "`git add .`\r\n",
        "\r\n",
        "However, **use `git add .` with caution**. Be sure to review the results from `git status` carefully before using `git add .`. You do not want to accidentally add files that you do not want to change in the `GitHub` repository. "
      ]
    },
    {
      "cell_type": "markdown",
      "metadata": {
        "id": "wAYXLYLbn-sc"
      },
      "source": [
        "### Commit Files\r\n",
        "\r\n",
        "Once you are ready to make a snapshot of the current state of your repository, you can use `git commit`. \r\n",
        "\r\n",
        "The `git commit` command requires a commit message that describes the snapshot (i.e. changes) that you made in that commit. A commit message should outline what changed and why. These messages:\r\n",
        "\r\n",
        "1. help collaborators and your future self understand what was changed and why\r\n",
        "2. allow you and your collaborators to find (and undo if necessary) changes that were previously made.\r\n",
        "\r\n",
        "Since you are not committing a lot of changes, you can create a short one line commit message using the -m flag:\r\n",
        "\r\n",
        "`git commit -m \"Added yourfile.txt\"`\r\n",
        "\r\n",
        "You will learn about including longer commit messages later in this course."
      ]
    },
    {
      "cell_type": "markdown",
      "metadata": {
        "id": "r18NQOZioAHC"
      },
      "source": [
        "## Push Changed Files to GitHub\r\n",
        "\r\n",
        "So far we have only modified our local copy of the repository. To update the files in your `GitHub` repository, you need to `push` the changed files to `GitHub`.\r\n",
        "\r\n",
        "You can push your changes to `GitHub` with:\r\n",
        "\r\n",
        "`git push origin master` **OR** `git push origin main`\r\n",
        "\r\n",
        "You **may be** be prompted for your `Github.com` username and password. \r\n",
        "\r\n",
        "After you have pushed your commits, visit your repository on `https://github.com/yourusername/atividade-01-markdown-yourusername` and notice that your changes are reflected there. Also notice that you have access to the full commit history for your repository!"
      ]
    },
    {
      "cell_type": "markdown",
      "metadata": {
        "id": "d5i72JgmoH1s"
      },
      "source": [
        "## Practice your skills\r\n",
        "\r\n",
        "Rename **and** modify `yourfile.txt` file and update it on `GitHub`!\r\n",
        "\r\n",
        "1. Rename `yourfile.txt` by adding your first initial and last name to the filename (e.g. `leomiquelutti-yourfile.txt`).\r\n",
        "\r\n",
        "1. Add some text/number/anything to your recently renamed file.\r\n",
        "\r\n",
        "1. Use your new `Git` skills to `add` and `commit` the changes and then `push` the changes to your `atividade-01-markdown-yourusername` repository on `GitHub`. \r\n",
        "\r\n",
        "1. Visit your repository on `Github.com` and see your change! What happened to the original file `yourfile.txt`?"
      ]
    },
    {
      "cell_type": "markdown",
      "metadata": {
        "id": "8zT-ht6mwSEv"
      },
      "source": [
        "## Alternatives\r\n",
        "\r\n",
        "You also can try [GitHub Desktop](https://desktop.github.com/):  \r\n",
        "* for [Windows and Mac](https://desktop.github.com/)\r\n",
        "* for [Linux](https://github.com/shiftkey/desktop)\r\n",
        "\r\n",
        "Another option is the manual web-based process, where you:\r\n",
        "* manually fork\r\n",
        "* add/remove files\r\n",
        "* create `commits`\r\n",
        "* pull requests (next section)"
      ]
    },
    {
      "cell_type": "markdown",
      "metadata": {
        "id": "dgzwMm8GoUyw"
      },
      "source": [
        "# Part 5 - Pull Requests"
      ]
    },
    {
      "cell_type": "markdown",
      "metadata": {
        "id": "xsoSkvZQspqk"
      },
      "source": [
        "## Learning Objectives\r\n",
        "\r\n",
        "After completing this lesson, you will be able to:\r\n",
        "\r\n",
        "* Explain the relationship between a forked repository (head) and the original repository (base)\r\n",
        "* Submit a pull request of changes to a repository on `Github.com` \r\n",
        "\r\n",
        "**You will also need a web browser and your `Github.com` login (username and password).**"
      ]
    },
    {
      "cell_type": "markdown",
      "metadata": {
        "id": "FatoVsMhtm5n"
      },
      "source": [
        "## About Pull Requests\r\n",
        "\r\n",
        "In the previous section, you added, committed, and pushed changed files to your forked repository on `https://github.com/yourusername/atividade-01-markdown-yourusername`. \r\n",
        "\r\n",
        "To submit changed files to the original repository (`https://github.com/ciencias-da-terra-python-2021-1/atividade-01-markdown-yourusername`), you need to submit a pull request on `Github.com`. \r\n",
        "\r\n",
        "<figure>\r\n",
        "   <a href=\"https://www.earthdatascience.org/images/workshops/version-control/git-push-pr.png\">\r\n",
        "   <img src=\"https://www.earthdatascience.org/images/workshops/version-control/git-push-pr.png\" alt=\"LEFT: To sync changes made and committed locally on your computer to your Github account, you push the changes from your computer to your fork on GitHub. RIGHT: To suggest changes to another repository, you submit a Pull Request to update the central repository. Source: Colin Williams, NEON.\"></a>\r\n",
        "   <figcaption> LEFT: To sync changes made and committed locally on your computer to your Github account, you push the changes from your computer to your fork on GitHub. RIGHT: To suggest changes to another repository, you submit a Pull Request to update the central repository. Source: Colin Williams, NEON.\r\n",
        "   </figcaption>\r\n",
        "</figure>\r\n",
        "\r\n",
        "Pull requests inform the owner of the original repository (e.g. `https://github.com/ciencias-da-terra-python-2021-1/atividade-01-markdown-yourusername`) that you have changed files you would like to add from a forked repository (e.g. `https://github.com/yourusername/atividade-01-markdown-yourusername`). \r\n",
        "\r\n",
        "A pull request to another repository is similar to a “push”. However, it allows for a few things:\r\n",
        "\r\n",
        "1. It allows you to contribute to another repo without needing administrative privileges to make changes to the repository.\r\n",
        "2. It allows others to review your changes and suggest corrections, additions, edits, etc.\r\n",
        "3. It allows repository administrators control over what gets added to their project repo.\r\n",
        "\r\n",
        "The ability to suggest changes to ANY repository, without needing administrative privileges is a powerful feature of `GitHub`. You can make as many changes as you want in your fork, and then suggest that the owner of the original repository incorporate those changes using a pull request."
      ]
    },
    {
      "cell_type": "markdown",
      "metadata": {
        "id": "-ZZaOCqrtvRX"
      },
      "source": [
        "## Submit Pull Requests \r\n",
        "\r\n",
        "This section was adapted from the `GitHub` <a href=\"https://guides.github.com/activities/hello-world/\" target = \"_blank\">Hello World guide</a>. They provide an animated version of these directions.\r\n",
        "\r\n",
        "Pull requests are the heart of collaboration on `Github.com`. When you open a pull request, you’re proposing your changes and requesting that someone review and pull in your contribution and merge them into their project.\r\n",
        "\r\n",
        "Pull requests show diffs, (differences), of the content between your repo and the repo that you are submitting changes to. The changes, additions, and subtractions are shown in green and red."
      ]
    },
    {
      "cell_type": "markdown",
      "metadata": {
        "id": "rHf4sy1Mtw2f"
      },
      "source": [
        "### Step 1 - Start Pull Request\r\n",
        "\r\n",
        "To begin a pull request (PR), click the `New pull request` button on the main page of your forked repository (e.g. `https://github.com/yourusername/atividade-01-markdown-yourusername`).\r\n",
        "\r\n",
        "<figure>\r\n",
        " <a href=\"https://github.com/earthlab/earth-analytics-bootcamp-course/raw/master/images/courses/earth-analytics/bootcamp/git/new-pull-request.png\">\r\n",
        " <img src=\"https://github.com/earthlab/earth-analytics-bootcamp-course/raw/master/images/courses/earth-analytics/bootcamp/git/new-pull-request.png\" alt=\"Location of the New pull request button on the main page of an example repository for jenp0277/ea-bootcamp-hw-1-jenp0277.\"></a>\r\n",
        " <figcaption> Location of the New pull request button on the main page of an example repository for jenp0277/ea-bootcamp-hw-1-jenp0277. \r\n",
        " </figcaption>\r\n",
        "</figure>\r\n",
        "\r\n",
        "<i class=\"fa fa-star\"></i> **Data Tip:** You can also click the “Pull Requests” tab at the top of the main page of a repository to submit a pull request (PR). When the pull request page opens, click the “New pull request” button to initiate a PR."
      ]
    },
    {
      "cell_type": "markdown",
      "metadata": {
        "id": "3tHICQHsuI84"
      },
      "source": [
        "### Step 2 - Select Repository to Update\r\n",
        "\r\n",
        "Next, you need to select which repository you wish to update (the base repo) and which repository contains the content that you wish to use to update the base (the head repo). \r\n",
        "\r\n",
        "In this example, you want to update `ciencias-da-terra-python-2021-1/atividade-01-markdown-yourusername` with commits in your fork `github.com/yourusername/atividade-01-markdown-yourusername`."
      ]
    },
    {
      "cell_type": "markdown",
      "metadata": {
        "id": "40j8utWIuNsr"
      },
      "source": [
        "#### Head vs Base\r\n",
        "\r\n",
        "* Base: the repository that will be updated; changes will be added to this repository.\r\n",
        "* Head: the repository containing the changes that will be added to the base.\r\n",
        "\r\n",
        "One way to remember this is that the “head” is ahead of the \"base\". So you must add from the head to the base.\r\n",
        "\r\n",
        "When you begin a pull request, the head and base will auto-populate as follows:\r\n",
        "\r\n",
        "* base fork: `ciencias-da-terra-python-2021-1/atividade-01-markdown-yourusername`\r\n",
        "* head fork: `yourusername/atividade-01-markdown-yourusername`\r\n",
        "\r\n",
        "The above pull request configuration tells `Github.com` to update the base repository with contents from your forked repository, or the head repository.\r\n"
      ]
    },
    {
      "cell_type": "markdown",
      "metadata": {
        "id": "44fqkt7BuR5P"
      },
      "source": [
        "### Step 3 - Verify Changes\r\n",
        "\r\n",
        "When you compare two repos in a pull request page, `GitHub` provides an overview of the differences (diffs) between the files. Look over the changes and make sure nothing looks surprising. \r\n",
        "\r\n",
        "You can also click on the commit titles to see the specific changes in each commit. \r\n",
        "\r\n",
        "<figure>\r\n",
        " <a href=\"https://www.earthdatascience.org/images/earth-analytics/git-version-control/github-diff-file.png\">\r\n",
        " <img src=\"https://www.earthdatascience.org/images/earth-analytics/git-version-control/github-diff-file.png\" alt=\"This screenshot shows the differences between the files on earthlab-education/ea-bootcamp-hw-1-jenp0277 in red and jenp0277's copy of the repository in green. Deletions are highlighted in red and additions are highlighted in green. Pull request diffs view can be changed between unified and split (arrow).\"></a>\r\n",
        " <figcaption> This screenshot shows a diff associated with a pull request. On the LEFT, you can see the text (highlighted with red) that was modified by the proposed pull request. The words that are dark red were the ones that were deleted. On the RIGHT, you can see the text (in green) that represents the proposed changes. The words that are darker green were added. In this example, the word <ins>earthpy</ins> was replaced with <ins>matplotcheck</ins> in the contributing.rst file of the repo.\r\n",
        " </figcaption>\r\n",
        "</figure>"
      ]
    },
    {
      "cell_type": "markdown",
      "metadata": {
        "id": "aqhrqxs5uetX"
      },
      "source": [
        "### Step 4 - Create New Pull Request\r\n",
        "\r\n",
        "If you are adding new commits to base repository (e.g. `ciencias-da-terra-python-2021-1/atividade-01-markdown-yourusername`), then the \"Create Pull Request\" button will be available. Click the green “Create Pull Request” button to start your pull request."
      ]
    },
    {
      "cell_type": "markdown",
      "metadata": {
        "id": "gXRWJUg9ugwa"
      },
      "source": [
        "### Step 5 - Describe Your Pull Request\r\n",
        "\r\n",
        "Add a title and write a brief description of your changes. When you’re done with your message, click “Create Pull Request”.\r\n",
        "\r\n",
        "\r\n",
        "<figure>\r\n",
        " <a href=\"https://github.com/earthlab/earth-analytics-bootcamp-course/raw/master/images/courses/earth-analytics/bootcamp/git/create-pull-request.png\">\r\n",
        " <img src=\"https://github.com/earthlab/earth-analytics-bootcamp-course/raw/master/images/courses/earth-analytics/bootcamp/git/create-pull-request.png\" alt=\"Pull request titles should be concise and descriptive of the content in the pull request. More detailed notes can be left in the comments box. Source: National Ecological Observatory Network (NEON).\"></a>\r\n",
        " <figcaption> Pull request titles should be concise and descriptive of the content in the pull request. More detailed notes can be left in the comments box. Source: National Ecological Observatory Network (NEON).\r\n",
        " </figcaption>\r\n",
        "</figure>\r\n",
        "\r\n",
        "Notice that when creating a new pull request, you will be automatically transferred to the `Github.com` site for the base repository. \r\n",
        "\r\n",
        "Though you may see an active button for Merge Pull Request, this button is intended for the owner of the repository. They can review your pull request and then decide if/when to merge it into their original repository.\r\n",
        "\r\n",
        "Note that until the owner merges your pull request, all future commits that you make to your fork will continue to be added to the open pull request. "
      ]
    },
    {
      "cell_type": "markdown",
      "metadata": {
        "id": "AwhbGHqTumA0"
      },
      "source": [
        "### Close Pull Requests\r\n",
        "\r\n",
        "You can also close a pull request on `Github.com` if you decide you are not ready to submit your files from your forked repository to the original repository. \r\n",
        "\r\n",
        "For example, the pull request you just created in this lesson can be closed if you have not yet completed the 1st assignment (`atividade-01-markdown`). When you are ready to submit, you can simply create a new pull request on `Github.com` following these same steps.\r\n",
        "\r\n",
        "To close a pull request, simply click on `Close pull request` button toward the bottom of the pull request page.\r\n",
        "\r\n",
        "<figure>\r\n",
        " <a href=\"https://github.com/earthlab/earth-analytics-bootcamp-course/raw/master/images/courses/earth-analytics/bootcamp/git/close-pull-request.png\">\r\n",
        " <img src=\"https://github.com/earthlab/earth-analytics-bootcamp-course/raw/master/images/courses/earth-analytics/bootcamp/git/close-pull-request.png\" alt=\"Location of the Close pull request button on an example pull request from jenp0277/ea-bootcamp-hw-1-jenp0277 to earthlab-education/ea-bootcamp-hw-1-jenp0277.\"></a>\r\n",
        " <figcaption> Location of the Close pull request button on an example pull request from jenp0277/ea-bootcamp-hw-1-jenp0277 to earthlab-education/ea-bootcamp-hw-1-jenp0277.\r\n",
        " </figcaption>\r\n",
        "</figure>\r\n",
        "\r\n",
        "**Congratulations!** You know now how to submit *Assignment 1*. Simply repeat the steps in this lesson when you are ready to submit your final profile."
      ]
    }
  ]
}